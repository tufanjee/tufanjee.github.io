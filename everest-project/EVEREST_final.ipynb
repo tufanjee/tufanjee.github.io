{
 "cells": [
  {
   "cell_type": "code",
   "execution_count": 1,
   "id": "e5db7fa8-a4a9-4186-a532-1b7fab16d842",
   "metadata": {},
   "outputs": [
    {
     "name": "stderr",
     "output_type": "stream",
     "text": [
      "/var/folders/j7/bs_78v014_z3vp4jh1n05bth0000gn/T/ipykernel_13307/2508954031.py:3: DtypeWarning: Columns (80,81,82) have mixed types. Specify dtype option on import or set low_memory=False.\n",
      "  everest = pd.read_csv(\"everest.csv\")\n"
     ]
    }
   ],
   "source": [
    "import pandas as pd\n",
    "\n",
    "everest = pd.read_csv(\"everest.csv\")\n"
   ]
  },
  {
   "cell_type": "code",
   "execution_count": 2,
   "id": "3b59a5a5-a149-4207-bed6-e15ef1f06842",
   "metadata": {},
   "outputs": [
    {
     "name": "stdout",
     "output_type": "stream",
     "text": [
      "fname                                       Alexander Mitchell\n",
      "lname                                                   Kellas\n",
      "sex                                                          M\n",
      "citizen                                                     UK\n",
      "calcage                                                     52\n",
      "deathhgtm                                                 5700\n",
      "deathdate                                  1921-06-05 00:00:00\n",
      "deathnote    Died of illness on approach march (heart failu...\n",
      "Name: 5691, dtype: object\n"
     ]
    },
    {
     "name": "stderr",
     "output_type": "stream",
     "text": [
      "/var/folders/j7/bs_78v014_z3vp4jh1n05bth0000gn/T/ipykernel_13307/4222574070.py:3: UserWarning: Could not infer format, so each element will be parsed individually, falling back to `dateutil`. To ensure parsing is consistent and as-expected, please specify a format.\n",
      "  everest['deathdate'] = pd.to_datetime(everest['deathdate'], errors='coerce')\n"
     ]
    }
   ],
   "source": [
    "# Converting 'deathdate' column into datetime format\n",
    "\n",
    "everest['deathdate'] = pd.to_datetime(everest['deathdate'], errors='coerce')\n",
    "\n",
    "# Finding the first person who died in the Mt. Everest\n",
    "first_death = everest.loc[\n",
    "    everest[everest['death']]['deathdate'].idxmin(),\n",
    "    ['fname', 'lname', 'sex','citizen', 'calcage', 'deathhgtm', 'deathdate', 'deathnote']\n",
    "]\n",
    "print(first_death)\n"
   ]
  },
  {
   "cell_type": "code",
   "execution_count": 3,
   "id": "4555c6a2-8957-4fef-8c3a-44ee2824097d",
   "metadata": {},
   "outputs": [
    {
     "name": "stdout",
     "output_type": "stream",
     "text": [
      "The first person who died during the expedition on Mt. Everest was Alexander Mitchell Kellas from the UK on June 05, 1921. He was 52 years old, and he died at an altitude of 5700 meters. Kellas died of illness on approach march (heart failure) near pass to Kampa Dzong.\n"
     ]
    }
   ],
   "source": [
    "fname, lname, citizen, calcage, deathhgtm, deathnote, deathdate = (\n",
    "    first_death['fname'],\n",
    "    first_death['lname'],\n",
    "    first_death['citizen'],\n",
    "    first_death['calcage'],\n",
    "    first_death['deathhgtm'],\n",
    "    first_death['deathnote'],\n",
    "    first_death['deathdate'].strftime('%B %d, %Y'),   \n",
    ")\n",
    "\n",
    "print(\n",
    "    f\"The first person who died during the expedition on Mt. Everest was {fname} {lname} from the {citizen} on {deathdate}. \" \n",
    "f\"He was {calcage} years old, and he died at an altitude of {deathhgtm} meters. \"\n",
    "f\"{lname} {deathnote[0].lower() + deathnote[1:]}.\"\n",
    ")"
   ]
  },
  {
   "cell_type": "code",
   "execution_count": 89,
   "id": "f7f36453-2e72-4549-93f5-7c6d7d48e7c3",
   "metadata": {},
   "outputs": [
    {
     "name": "stdout",
     "output_type": "stream",
     "text": [
      "fname            Joshua Cheruiyot\n",
      "lname                       Kirui\n",
      "sex                             M\n",
      "citizen                     Kenya\n",
      "calcage                        40\n",
      "deathhgtm                    8800\n",
      "deathdate     2024-05-22 00:00:00\n",
      "deathtype                       1\n",
      "deathclass                      4\n",
      "deathnote                     NaN\n",
      "Name: 24465, dtype: object\n"
     ]
    }
   ],
   "source": [
    "# Finding the last person who died on Mt. Everest based on data up to the Autumn–Winter 2024 expedition\n",
    "last_death = everest.loc[\n",
    "    everest[everest['death']]['deathdate'].idxmax(),\n",
    "    ['fname', 'lname', 'sex','citizen', 'calcage', 'deathhgtm', 'deathdate', 'deathtype', 'deathclass','deathnote']\n",
    "]\n",
    "print(last_death)"
   ]
  },
  {
   "cell_type": "code",
   "execution_count": 91,
   "id": "7d68f53a-6686-427c-a80a-f63e37af3dd4",
   "metadata": {},
   "outputs": [
    {
     "name": "stdout",
     "output_type": "stream",
     "text": [
      "The last person who died during the expedition on Mt. Everest, based on data through the Autumn–Winter 2024 season, was Joshua Cheruiyot Kirui from Kenya on May 22, 2024. He was 40 years old, and he died at an altitude of 8800 meters.\n"
     ]
    }
   ],
   "source": [
    "fname, lname, citizen, calcage, deathhgtm, deathdate = (\n",
    "    last_death['fname'],\n",
    "    last_death['lname'],\n",
    "    last_death['citizen'],\n",
    "    last_death['calcage'],\n",
    "    last_death['deathhgtm'],\n",
    "    last_death['deathdate'].strftime('%B %d, %Y'),   \n",
    ")\n",
    "\n",
    "print(\n",
    "    f\"The last person who died during the expedition on Mt. Everest, based on data through the Autumn–Winter 2024 season,\" \n",
    "    f\" was {fname} {lname} from {citizen} on {deathdate}.\"\n",
    "    f\" He was {calcage} years old, and he died at an altitude of {deathhgtm} meters.\"\n",
    ")"
   ]
  },
  {
   "cell_type": "code",
   "execution_count": 39,
   "id": "6381acee-d01e-4f55-b705-2f267a19f0e9",
   "metadata": {},
   "outputs": [
    {
     "data": {
      "text/plain": [
       "fname                          Min Bahadur\n",
       "lname                             Sherchan\n",
       "sex                                      M\n",
       "citizen                              Nepal\n",
       "calcage                                 85\n",
       "deathhgtm                             5350\n",
       "deathdate              2017-05-06 00:00:00\n",
       "deathnote    Died of apparent heart attack\n",
       "Name: 19205, dtype: object"
      ]
     },
     "execution_count": 39,
     "metadata": {},
     "output_type": "execute_result"
    }
   ],
   "source": [
    "# Finding the oldest person who died on Mt. Everest based on data up to the Autumn–Winter 2024 expedition\n",
    "\n",
    "old_death = everest.loc[\n",
    "    everest[everest['death']]['calcage'].idxmax(),\n",
    "    ['fname', 'lname', 'sex','citizen', 'calcage', 'deathhgtm', 'deathdate', 'deathnote']\n",
    "]\n",
    "\n",
    "old_death"
   ]
  },
  {
   "cell_type": "code",
   "execution_count": 50,
   "id": "074c6359-0304-495f-a375-a74542ce346c",
   "metadata": {},
   "outputs": [
    {
     "name": "stdout",
     "output_type": "stream",
     "text": [
      "The oldest person who died during the expedition on Mt. Everest, based on data through the Autumn–Winter 2024 season, was Min Bahadur Sherchan from Nepal on May 22, 2024. He was 85 years old, and he died at an altitude of 5350 meters. According to the BBC story(https://www.bbc.com/news/world-asia-39829636), he was a former British Gurkha soldier who wasattempting to reclaim the record from Japan's Yuichiro Miura, who had climbed Everest at age 80 in 2013. Miura had previouslybroken Sherchan's own record, which was set when he was 76 years old in 2008.\n"
     ]
    }
   ],
   "source": [
    "fname, lname, citizen, calcage, deathhgtm, deathnote, deathdate = (\n",
    "    old_death['fname'],\n",
    "    old_death['lname'],\n",
    "    old_death['citizen'],\n",
    "    old_death['calcage'],\n",
    "    old_death['deathhgtm'],\n",
    "    old_death['deathnote'],\n",
    "    last_death['deathdate'].strftime('%B %d, %Y'),   \n",
    ")\n",
    "\n",
    "print(\n",
    "    f\"The oldest person who died during the expedition on Mt. Everest, based on data through the Autumn–Winter 2024 season,\" \n",
    "    f\" was {fname} {lname} from {citizen} on {deathdate}.\"\n",
    "    f\" He was {calcage} years old, and he died at an altitude of {deathhgtm} meters.\"\n",
    "    f\" According to the BBC story(https://www.bbc.com/news/world-asia-39829636), he was a former British Gurkha soldier who was\" \n",
    "    f\"attempting to reclaim the record from Japan's Yuichiro Miura, who had climbed Everest at age 80 in 2013. Miura had previously\" \n",
    "    f\"broken Sherchan's own record, which was set when he was 76 years old in 2008.\"\n",
    "\n",
    ")"
   ]
  },
  {
   "cell_type": "code",
   "execution_count": 45,
   "id": "bfdd652c-8702-4fcb-97c8-44f6858e35ad",
   "metadata": {},
   "outputs": [
    {
     "name": "stdout",
     "output_type": "stream",
     "text": [
      "fname                   Chhewang\n",
      "lname                     Sherpa\n",
      "sex                            M\n",
      "citizen                    Nepal\n",
      "calcage                       19\n",
      "deathhgtm                      0\n",
      "deathdate    2014-05-01 00:00:00\n",
      "Name: 16878, dtype: object\n"
     ]
    }
   ],
   "source": [
    "# Finding the youngest person who died in the Mt. Everest \n",
    "\n",
    "young_death = everest.loc[\n",
    "   everest[(everest['death'] == 1) & (everest['calcage'] > 0) & (everest['calcage'].notna())]['calcage'].idxmin(),\n",
    "   ['fname', 'lname', 'sex','citizen', 'calcage', 'deathhgtm', 'deathdate']\n",
    "]\n",
    "\n",
    "print(young_death)\n"
   ]
  },
  {
   "cell_type": "code",
   "execution_count": 47,
   "id": "3a44d1ab-8986-4357-afa3-14454002f4ca",
   "metadata": {},
   "outputs": [
    {
     "name": "stdout",
     "output_type": "stream",
     "text": [
      "\n",
      "All people who died at age 19:\n",
      "          fname   lname sex citizen  calcage             status  deathhgtm  \\\n",
      "16878  Chhewang  Sherpa   M   Nepal       19  H-A Worker (Cook)          0   \n",
      "17076     Pemba  Sherpa   M   Nepal       19            BC Cook       5350   \n",
      "\n",
      "       deathdate  deathtype               residence  \n",
      "16878 2014-05-01         11    Nunthala, Solukhumbu  \n",
      "17076 2015-04-25          7  Taksindu-5, Solukhumbu  \n"
     ]
    }
   ],
   "source": [
    "# Are there multiple people who died at the youngest age?\n",
    "youngest_age = young_death['calcage']\n",
    "multiple_youngest = everest[\n",
    "   everest['death'] & \n",
    "   (everest['calcage'] == youngest_age)\n",
    "][['fname', 'lname', 'sex', 'citizen', 'calcage', 'status', 'deathhgtm', 'deathdate','deathtype','residence', ]]\n",
    "\n",
    "print(f\"\\nAll people who died at age {youngest_age}:\")\n",
    "\n",
    "print(multiple_youngest)\n",
    "\n",
    "# Note: the deathtype column\n",
    "# 7  – Avalanche\n",
    "# 11 – Other\n"
   ]
  },
  {
   "cell_type": "code",
   "execution_count": 52,
   "id": "2f265e58-010f-44fa-9d3c-077d6f0825af",
   "metadata": {},
   "outputs": [
    {
     "name": "stdout",
     "output_type": "stream",
     "text": [
      "One of the youngest people who died on Mt. Everest was Pemba Sherpa from the Solukhumbu district, the district where Everestis located. He died on April 25, 2015, due to an avalanche (deathtype #7) caused by the earthquake in Nepal.He was 19 years old and was at Base Camp working as a Sherpa cook.\n"
     ]
    }
   ],
   "source": [
    "print(\n",
    "    f\"One of the youngest people who died on Mt. Everest was Pemba Sherpa from the Solukhumbu district, the district where Everest\" \n",
    "    f\"is located. He died on April 25, 2015, due to an avalanche (deathtype #7) caused by the earthquake in Nepal.\" \n",
    "    f\"He was 19 years old and was at Base Camp working as a Sherpa cook.\"\n",
    ")"
   ]
  },
  {
   "cell_type": "code",
   "execution_count": 6,
   "id": "f1fd2798-6c14-4298-8d60-d91f282fdd20",
   "metadata": {},
   "outputs": [
    {
     "name": "stdout",
     "output_type": "stream",
     "text": [
      "Total deaths recorded on Mt. Everest from the very first on June 05, 1921, to the latest on May 22, 2024, is 353.\n"
     ]
    }
   ],
   "source": [
    "print(f\"Total deaths recorded on Mt. Everest from the very first on {first_death['deathdate'].strftime('%B %d, %Y')},\"\n",
    "      f\" to the latest on {last_death['deathdate'].strftime('%B %d, %Y')}, is {everest['death'].sum()}.\")"
   ]
  },
  {
   "cell_type": "markdown",
   "id": "7dda9365-cff7-42e2-b3c8-281e4eb87341",
   "metadata": {},
   "source": [
    "## Total deaths recorded on Mt. Everest from the very first on June 05, 1921, to the latest on May 22, 2024, is 353."
   ]
  },
  {
   "cell_type": "code",
   "execution_count": 7,
   "id": "a8747e9a-91e4-411d-90fa-53b87ebb7063",
   "metadata": {},
   "outputs": [],
   "source": [
    "# Everest deaths per year\n",
    "\n",
    "everest_death = (\n",
    "    everest.groupby('myear')['death']\n",
    "    .sum()\n",
    "    .loc[lambda x: x > 0]\n",
    "    .sort_values(ascending=False)\n",
    ")\n",
    "\n",
    "# Converting Series to DataFrame\n",
    "everest_death_df = everest_death.reset_index().rename(columns={'myear': 'year', 'death': 'total_death'})\n",
    "\n",
    "# Saving file\n",
    "everest_death_df.to_csv(\"everest_total_death_by_year.csv\", index=False)\n"
   ]
  },
  {
   "cell_type": "code",
   "execution_count": 8,
   "id": "84dde33b-7724-4020-bd4a-c55b9bed7087",
   "metadata": {},
   "outputs": [],
   "source": [
    "# Mapping dictionary for death type codes\n",
    "\n",
    "# Death type (cause) codes in 'deathtype' column:\n",
    "\n",
    "# 0  – Unspecified\n",
    "# 1  – AMS (Acute Mountain Sickness)\n",
    "# 2  – Exhaustion\n",
    "# 3  – Exposure / Frostbite\n",
    "# 4  – Fall\n",
    "# 5  – Crevasse\n",
    "# 6  – Icefall collapse\n",
    "# 7  – Avalanche\n",
    "# 8  – Falling rock/ice\n",
    "# 9  – Disappearance (unexplained)\n",
    "# 10 – Illness (non-AMS)\n",
    "# 11 – Other\n",
    "# 12 – Unknown\n",
    "\n",
    "\n",
    "deathtype_map = {\n",
    "    0: \"Other/Unknown\",\n",
    "    1: \"Acute Mountain Sickness\",\n",
    "    2: \"Exhaustion\",\n",
    "    3: \"Exposure/Frostbite\",\n",
    "    4: \"Fall\",\n",
    "    5: \"Crevasse\",\n",
    "    6: \"Icefall collapse\",\n",
    "    7: \"Avalanche\",\n",
    "    8: \"Falling rock/ice\",\n",
    "    9: \"Disappearance\",\n",
    "    10: \"Illness(non-AMS)\",\n",
    "    11: \"Other/Unknown\",\n",
    "    12: \"Other/Unknown\"\n",
    "}\n",
    "\n",
    "# The 'deathtype' column contains numerical codes representing causes of death, which are taken directly from the Himalayan Database Guide, \n",
    "# available at: https://www.himalayandatabase.com/downloads/Himalayan%20Database%20Guide.pdf\n"
   ]
  },
  {
   "cell_type": "code",
   "execution_count": 9,
   "id": "7a82a4f9-eb50-4db6-a3ff-7e293b256006",
   "metadata": {},
   "outputs": [],
   "source": [
    "# Mapping dictionary for death classification codes\n",
    "\n",
    "# 0 = Unknown or unspecified classification\n",
    "# 1 = Death en route to or from base camp\n",
    "# 2 = Death at base camp\n",
    "# 3 = Death during the route preparation phase before a summit bid commences\n",
    "# 4 = Death during the ascent phase of a summit bid whether successful or not\n",
    "# 5 = Death during the descent phase of a summit bid\n",
    "# 6 = Death during the route evacuation phase after all summit bids are completed\n",
    "# 7 = Other or unknown classification of death\n",
    "\n",
    "# Mapping dictionary for death classification codes\n",
    "\n",
    "deathclass_map = {\n",
    "    0: \"Unknown\",\n",
    "    1: \"En route to/from base camp\",\n",
    "    2: \"At base camp\", \n",
    "    3: \"During route preparation\",\n",
    "    4: \"Ascent phase\",\n",
    "    5: \"Descent phase\",\n",
    "    6: \"Route evacuation\",\n",
    "    7: \"Other\"\n",
    "}\n",
    "\n",
    "# The 'deathclass' column contains numerical codes representing phase of death, which are taken directly from the Himalayan Database Guide, \n",
    "# available at: https://www.himalayandatabase.com/downloads/Himalayan%20Database%20Guide.pdf\n"
   ]
  },
  {
   "cell_type": "code",
   "execution_count": 10,
   "id": "7a923a16-f423-4017-9693-6cfe940577f4",
   "metadata": {},
   "outputs": [
    {
     "name": "stderr",
     "output_type": "stream",
     "text": [
      "/var/folders/j7/bs_78v014_z3vp4jh1n05bth0000gn/T/ipykernel_13307/3429928227.py:5: SettingWithCopyWarning: \n",
      "A value is trying to be set on a copy of a slice from a DataFrame.\n",
      "Try using .loc[row_indexer,col_indexer] = value instead\n",
      "\n",
      "See the caveats in the documentation: https://pandas.pydata.org/pandas-docs/stable/user_guide/indexing.html#returning-a-view-versus-a-copy\n",
      "  death_data['classification'] = death_data['deathclass'].map(deathclass_map)\n",
      "/var/folders/j7/bs_78v014_z3vp4jh1n05bth0000gn/T/ipykernel_13307/3429928227.py:8: SettingWithCopyWarning: \n",
      "A value is trying to be set on a copy of a slice from a DataFrame.\n",
      "Try using .loc[row_indexer,col_indexer] = value instead\n",
      "\n",
      "See the caveats in the documentation: https://pandas.pydata.org/pandas-docs/stable/user_guide/indexing.html#returning-a-view-versus-a-copy\n",
      "  death_data['cause'] = death_data['deathtype'].map(deathtype_map)\n",
      "/var/folders/j7/bs_78v014_z3vp4jh1n05bth0000gn/T/ipykernel_13307/3429928227.py:11: SettingWithCopyWarning: \n",
      "A value is trying to be set on a copy of a slice from a DataFrame.\n",
      "Try using .loc[row_indexer,col_indexer] = value instead\n",
      "\n",
      "See the caveats in the documentation: https://pandas.pydata.org/pandas-docs/stable/user_guide/indexing.html#returning-a-view-versus-a-copy\n",
      "  death_data['group'] = death_data['sherpa'].apply(lambda x: 'Sherpa' if x else 'Climber')\n"
     ]
    }
   ],
   "source": [
    "# Filtering deaths \n",
    "death_data = everest[everest['death'] == True]\n",
    "\n",
    "# Mapping classification \n",
    "death_data['classification'] = death_data['deathclass'].map(deathclass_map)\n",
    "\n",
    "# Mapping cause of death \n",
    "death_data['cause'] = death_data['deathtype'].map(deathtype_map)\n",
    "\n",
    "# Adding a 'group' column to the dataset; values will be 'Sherpa' and 'Climber':\n",
    "death_data['group'] = death_data['sherpa'].apply(lambda x: 'Sherpa' if x else 'Climber')\n",
    "\n",
    "# Grouping Sherpas vs. Climbers by their causes of death\n",
    "\n",
    "cause_of_death = (\n",
    "    death_data\n",
    "    .groupby(['group', 'cause'])\n",
    "    .size()\n",
    "    .reset_index(name='count')\n",
    "    .sort_values(by=['group', 'count'], ascending=[True, False])\n",
    ")\n",
    "\n",
    "# Grouping Sherpas vs. Climbers by the phase of climbing during which they died\n",
    "\n",
    "phase_of_death = (\n",
    "    death_data\n",
    "    .groupby(['group', 'classification'])\n",
    "    .size()\n",
    "    .reset_index(name='count')\n",
    "    .sort_values(by=['group', 'count'], ascending=[True, False])\n",
    ")\n",
    "\n",
    "# Save these combined datasets for visualization\n",
    "cause_of_death.to_csv(\"cause_of_death.csv\", index=False)\n",
    "phase_of_death.to_csv(\"phase_of_death.csv\", index=False)\n"
   ]
  },
  {
   "cell_type": "code",
   "execution_count": 11,
   "id": "01f00d0c-08d9-4b6c-a7db-0725f8285def",
   "metadata": {},
   "outputs": [],
   "source": [
    "# Pivot the cause data to wide format\n",
    "cause_of_death_wide = (\n",
    "    cause_of_death\n",
    "    .pivot(index='cause', columns='group', values='count')\n",
    "    .fillna(0)\n",
    "    .astype(int)\n",
    "    .reset_index()\n",
    ")\n",
    "\n",
    "# Save wide-format cause data\n",
    "cause_of_death_wide.to_csv(\"cause_of_death_wide.csv\", index=False)\n",
    "\n",
    "# Pivot the classification data to wide format\n",
    "phase_of_death_wide = (\n",
    "    phase_of_death\n",
    "    .pivot(index='classification', columns='group', values='count')\n",
    "    .fillna(0)\n",
    "    .astype(int)\n",
    "    .reset_index()\n",
    ")\n",
    "\n",
    "# Save wide-format classification data\n",
    "phase_of_death_wide.to_csv(\"phase_of_death_wide.csv\", index=False)\n"
   ]
  },
  {
   "cell_type": "code",
   "execution_count": 12,
   "id": "67bd921c-0eba-4711-98dc-9ec6f92d38c7",
   "metadata": {},
   "outputs": [
    {
     "data": {
      "text/plain": [
       "citizen\n",
       "Nepal             144\n",
       "India              29\n",
       "UK                 22\n",
       "Japan              19\n",
       "USA                17\n",
       "China              12\n",
       "S Korea            11\n",
       "Russia              9\n",
       "Australia           9\n",
       "Germany             7\n",
       "Poland              7\n",
       "France              6\n",
       "Canada              5\n",
       "Czechoslovakia      5\n",
       "Spain               5\n",
       "Other              46\n",
       "Name: count, dtype: int64"
      ]
     },
     "execution_count": 12,
     "metadata": {},
     "output_type": "execute_result"
    }
   ],
   "source": [
    "\n",
    "# Country-wise deaths on Mt. Everest\n",
    "\n",
    "everest_death_country = everest[everest['death'] == True]['citizen'].value_counts()\n",
    "\n",
    "# Adding 'Other' column for countries with less than 5 deaths and removing those countries\n",
    "\n",
    "if (everest_death_country < 5).any():\n",
    "    everest_death_country['Other'] = everest_death_country[everest_death_country < 5].sum()\n",
    "\n",
    "# Keeping only countries with >= 5 deaths and 'Other'\n",
    "everest_death_country = everest_death_country[everest_death_country >= 5]\n",
    "\n",
    "everest_death_country.to_csv('everest_death_country.csv')\n",
    "\n",
    "everest_death_country"
   ]
  },
  {
   "cell_type": "code",
   "execution_count": 13,
   "id": "adde8da4-4978-4317-afe8-fadafa6ee087",
   "metadata": {},
   "outputs": [
    {
     "data": {
      "text/html": [
       "<div>\n",
       "<style scoped>\n",
       "    .dataframe tbody tr th:only-of-type {\n",
       "        vertical-align: middle;\n",
       "    }\n",
       "\n",
       "    .dataframe tbody tr th {\n",
       "        vertical-align: top;\n",
       "    }\n",
       "\n",
       "    .dataframe thead th {\n",
       "        text-align: right;\n",
       "    }\n",
       "</style>\n",
       "<table border=\"1\" class=\"dataframe\">\n",
       "  <thead>\n",
       "    <tr style=\"text-align: right;\">\n",
       "      <th></th>\n",
       "      <th>group</th>\n",
       "      <th>sex</th>\n",
       "      <th>total_death</th>\n",
       "    </tr>\n",
       "  </thead>\n",
       "  <tbody>\n",
       "    <tr>\n",
       "      <th>0</th>\n",
       "      <td>Climber</td>\n",
       "      <td>F</td>\n",
       "      <td>13</td>\n",
       "    </tr>\n",
       "    <tr>\n",
       "      <th>1</th>\n",
       "      <td>Climber</td>\n",
       "      <td>M</td>\n",
       "      <td>224</td>\n",
       "    </tr>\n",
       "    <tr>\n",
       "      <th>2</th>\n",
       "      <td>Sherpa</td>\n",
       "      <td>F</td>\n",
       "      <td>1</td>\n",
       "    </tr>\n",
       "    <tr>\n",
       "      <th>3</th>\n",
       "      <td>Sherpa</td>\n",
       "      <td>M</td>\n",
       "      <td>115</td>\n",
       "    </tr>\n",
       "  </tbody>\n",
       "</table>\n",
       "</div>"
      ],
      "text/plain": [
       "     group sex  total_death\n",
       "0  Climber   F           13\n",
       "1  Climber   M          224\n",
       "2   Sherpa   F            1\n",
       "3   Sherpa   M          115"
      ]
     },
     "execution_count": 13,
     "metadata": {},
     "output_type": "execute_result"
    }
   ],
   "source": [
    "\n",
    "# Counting of deaths grouped by 'sherpa' and 'sex'\n",
    "\n",
    "death_counts = (\n",
    "    everest[everest['death'] == True]\n",
    "    .groupby(['sherpa', 'sex'])\n",
    "    .size()\n",
    "    .reset_index(name='total_death')\n",
    ")\n",
    "\n",
    "# Replacing True/False values with 'Sherpa' and 'Climber'\n",
    "\n",
    "death_counts['group'] = death_counts['sherpa'].map({True: 'Sherpa', False: 'Climber'})\n",
    "\n",
    "# Keep only relevant columns\n",
    "death_counts = death_counts[['group', 'sex', 'total_death']]\n",
    "\n",
    "death_counts.to_csv(\"death_sherpa_vs_climbers.csv\", index=False)\n",
    "\n",
    "death_counts"
   ]
  },
  {
   "cell_type": "code",
   "execution_count": 14,
   "id": "fdc6a071-2b6e-4cab-bc87-f18d25519196",
   "metadata": {},
   "outputs": [
    {
     "name": "stderr",
     "output_type": "stream",
     "text": [
      "/var/folders/j7/bs_78v014_z3vp4jh1n05bth0000gn/T/ipykernel_13307/3269874230.py:26: FutureWarning: The default of observed=False is deprecated and will be changed to True in a future version of pandas. Pass observed=False to retain current behavior or observed=True to adopt the future default and silence this warning.\n",
      "  .groupby(['group', 'classification', 'altitude_group'])\n"
     ]
    }
   ],
   "source": [
    "# Define altitude bins (in meters) based on key landmarks along the standard Everest climbing route.\n",
    "# These values are chosen to reflect the approximate elevations of each major camp and the summit region.\n",
    "\n",
    "altitude_bins = [0, 5360, 6035, 6474, 7158, 7906, 8900]\n",
    "altitude_labels = [\n",
    "   'Below Base Camp', # Includes all deaths that occurred below Everest Base Camp (5360 m)\n",
    "   'Base Camp Area', # Base Camp is at ~5360 m; this bin covers the area from BC up to Camp I (~6035 m)\n",
    "   'Camp I Area', # Camp I is around 6035 m; this bin spans from Camp I to Camp II (~6474 m)\n",
    "   'Camp II Area', # Camp II is around 6474 m; this bin spans up to Camp III (~7158 m)\n",
    "   'Camp III Area', # Camp III is around 7158 m; this bin spans up to Camp IV (~7906 m)\n",
    "   'Camp IV-Summit Area' # Camp IV is around 7906 m; this bin includes deaths from Camp IV to the summit (~8849 m)\n",
    "]\n",
    "\n",
    "    \n",
    "\n",
    "# Create the altitude groups and count deaths\n",
    "death_height = (\n",
    "   death_data\n",
    "   .assign(\n",
    "       altitude_group=lambda x: pd.cut(x['deathhgtm'], \n",
    "                                     bins=altitude_bins,\n",
    "                                     labels=altitude_labels,\n",
    "                                     include_lowest=True)\n",
    "   )\n",
    "   .dropna(subset=['deathhgtm'])\n",
    "   .groupby(['group', 'classification', 'altitude_group'])\n",
    "   .size()\n",
    "   .reset_index(name='death_count')\n",
    "   .query('death_count > 0')\n",
    ")\n",
    "\n",
    "# Reorder altitude_group from TOP to BOTTOM\n",
    "altitude_order = [\n",
    "   'Camp IV-Summit Area',\n",
    "   'Camp III Area', \n",
    "   'Camp II Area',\n",
    "   'Camp I Area', \n",
    "   'Base Camp Area', \n",
    "   'Below Base Camp'\n",
    "]\n",
    "\n",
    "death_height['altitude_group'] = pd.Categorical(\n",
    "   death_height['altitude_group'], \n",
    "   categories=altitude_order, \n",
    "   ordered=True\n",
    ")\n",
    "\n",
    "death_height = death_height.sort_values(['altitude_group', 'group'])\n",
    "\n",
    "# Save to CSV\n",
    "\n",
    "death_height.to_csv(\"death_height_sherpa_climbers.csv\", index=False)\n"
   ]
  },
  {
   "cell_type": "code",
   "execution_count": 16,
   "id": "d6f29e4b-8975-4010-a3b0-4da4af66887f",
   "metadata": {},
   "outputs": [
    {
     "name": "stdout",
     "output_type": "stream",
     "text": [
      "   Decade  Female Attempts  Male Attempts  Female Deaths  Male Deaths  \\\n",
      "0   1920s              0.0           96.0            0.0         26.0   \n",
      "1   1930s              0.0          121.0            0.0          1.0   \n",
      "2   1940s              0.0            3.0            0.0          0.0   \n",
      "3   1950s              1.0          108.0            0.0          1.0   \n",
      "4   1960s              0.0          167.0            0.0          6.0   \n",
      "5   1970s             43.0          599.0            1.0         28.0   \n",
      "6   1980s            122.0         1944.0            1.0         59.0   \n",
      "7   1990s            284.0         3221.0            3.0         59.0   \n",
      "8   2000s            510.0         5840.0            2.0         49.0   \n",
      "9   2010s            803.0         8053.0            6.0         77.0   \n",
      "10  2020s            381.0         3063.0            1.0         33.0   \n",
      "\n",
      "    Female Death Rate (%)  Male Death Rate (%)  \n",
      "0                    0.00                27.08  \n",
      "1                    0.00                 0.83  \n",
      "2                    0.00                 0.00  \n",
      "3                    0.00                 0.93  \n",
      "4                    0.00                 3.59  \n",
      "5                    2.33                 4.67  \n",
      "6                    0.82                 3.03  \n",
      "7                    1.06                 1.83  \n",
      "8                    0.39                 0.84  \n",
      "9                    0.75                 0.96  \n",
      "10                   0.26                 1.08  \n"
     ]
    }
   ],
   "source": [
    "\n",
    "# Filtering gender to keep only 'M' and 'F'\n",
    "\n",
    "everest_death_by_decade = everest[everest['sex'].isin(['M', 'F'])].copy()\n",
    "\n",
    "# Creating 'decade' column\n",
    "\n",
    "everest_death_by_decade['decade'] = (everest_death_by_decade['myear'] // 10) * 10\n",
    "everest_death_by_decade['decade'] = everest_death_by_decade['decade'].astype(int).astype(str) + 's'\n",
    "\n",
    "# Grouping by decade and gender for Everest climb attempts and expedition deaths\n",
    "\n",
    "death_stats = (\n",
    "    everest_death_by_decade\n",
    "    .groupby(['decade', 'sex'])\n",
    "    .agg(\n",
    "        attempts=('membid', 'count'),\n",
    "        deaths=('death', 'sum')\n",
    "    )\n",
    "    .reset_index()\n",
    ")\n",
    "\n",
    "# Calculating death rate per attempt (%)\n",
    "\n",
    "death_stats['Death Rate per Attempt (%)'] = round(\n",
    "    (death_stats['deaths'] / death_stats['attempts']) * 100, 2\n",
    ")\n",
    "\n",
    "# Renaming columns\n",
    "death_stats = death_stats.rename(columns={\n",
    "    'decade': 'Decade',\n",
    "    'sex': 'Gender',\n",
    "    'attempts': 'Attempts',\n",
    "    'deaths': 'Deaths'\n",
    "})\n",
    "\n",
    "\n",
    "# Pivoting to wide format\n",
    "\n",
    "death_stats_wide = death_stats.pivot(index='Decade', columns='Gender')\n",
    "\n",
    "#Flatten MultiIndex columns\n",
    "\n",
    "death_stats_wide.columns = [' '.join(col).strip() for col in death_stats_wide.columns.values]\n",
    "\n",
    "#Renaming columns \n",
    "\n",
    "death_stats_wide = death_stats_wide.rename(columns={\n",
    "    'Attempts M': 'Male Attempts',\n",
    "    'Attempts F': 'Female Attempts',\n",
    "    'Deaths M': 'Male Deaths',\n",
    "    'Deaths F': 'Female Deaths',\n",
    "    'Death Rate per Attempt (%) M': 'Male Death Rate (%)',\n",
    "    'Death Rate per Attempt (%) F': 'Female Death Rate (%)'\n",
    "})\n",
    "\n",
    "# Reset index to convert 'Decade' from index to column\n",
    "death_stats_wide = death_stats_wide.reset_index()\n",
    "\n",
    "#Fill missing values with 0\n",
    "death_stats_wide = death_stats_wide.fillna(0)\n",
    "\n",
    "print(death_stats_wide)\n",
    "\n",
    "#Save\n",
    "death_stats_wide.to_csv(\"death_by_gender.csv\", index=False)\n"
   ]
  },
  {
   "cell_type": "code",
   "execution_count": 19,
   "id": "7b440f04-4c8f-478a-bba8-836a6613b4f7",
   "metadata": {},
   "outputs": [
    {
     "name": "stdout",
     "output_type": "stream",
     "text": [
      "   Decade  Total Attempts  Total Deaths  Death Rate per Attempt (%)\n",
      "0   1920s              96            26                       27.08\n",
      "1   1930s             121             1                        0.83\n",
      "2   1940s               3             0                        0.00\n",
      "3   1950s             109             1                        0.92\n",
      "4   1960s             167             6                        3.59\n",
      "5   1970s             642            29                        4.52\n",
      "6   1980s            2066            60                        2.90\n",
      "7   1990s            3505            62                        1.77\n",
      "8   2000s            6350            51                        0.80\n",
      "9   2010s            8856            83                        0.94\n",
      "10  2020s            3444            34                        0.99\n"
     ]
    }
   ],
   "source": [
    "# Total attempts and deaths by decade with death rate\n",
    "\n",
    "total_stats_by_decade = (\n",
    "   everest_death_by_decade\n",
    "   .groupby('decade')\n",
    "   .agg(\n",
    "       total_attempts=('membid', 'count'),\n",
    "       total_deaths=('death', 'sum')\n",
    "   )\n",
    "   .reset_index()\n",
    ")\n",
    "\n",
    "# Calculate death rate per attempt (%)\n",
    "\n",
    "total_stats_by_decade['Death Rate per Attempt (%)'] = round(\n",
    "   (total_stats_by_decade['total_deaths'] / total_stats_by_decade['total_attempts']) * 100, 2\n",
    ")\n",
    "\n",
    "# Rename columns\n",
    "total_stats_by_decade = total_stats_by_decade.rename(columns={\n",
    "   'decade': 'Decade',\n",
    "   'total_attempts': 'Total Attempts',\n",
    "   'total_deaths': 'Total Deaths'\n",
    "})\n",
    "\n",
    "print(total_stats_by_decade)\n"
   ]
  },
  {
   "cell_type": "code",
   "execution_count": 24,
   "id": "2f6a48fd-a5cf-4a6f-8575-5841670dace7",
   "metadata": {},
   "outputs": [
    {
     "name": "stdout",
     "output_type": "stream",
     "text": [
      "   Age Group  Total Attempts  Total Deaths  Death Rate per Attempt (%)\n",
      "0      10-14               4             0                        0.00\n",
      "1      15-19             298             2                        0.67\n",
      "2      20-24            1942            23                        1.18\n",
      "3      25-29            4113            48                        1.17\n",
      "4      30-34            4903            59                        1.20\n",
      "5      35-39            4392            51                        1.16\n",
      "6      40-44            3502            41                        1.17\n",
      "7      45-49            2439            28                        1.15\n",
      "8      50-54            1520            24                        1.58\n",
      "9      55-59             826            10                        1.21\n",
      "10     60-64             400            11                        2.75\n",
      "11     65-69             151             3                        1.99\n",
      "12     70-74              44             0                        0.00\n",
      "13     75-79               7             0                        0.00\n",
      "14     80-84               4             1                       25.00\n",
      "15     85-89               1             1                      100.00\n"
     ]
    }
   ],
   "source": [
    "# Filter out invalid age values and create age groups\n",
    "\n",
    "age_death_analysis = everest[\n",
    "   (everest['calcage'] > 0) & \n",
    "   (everest['calcage'].notna())\n",
    "].copy()\n",
    "\n",
    "# Create 5-year age groups\n",
    "\n",
    "age_death_analysis['age_group'] = (age_death_analysis['calcage'] // 5) * 5\n",
    "age_death_analysis['age_group'] = age_death_analysis['age_group'].astype(int).astype(str) + '-' + (age_death_analysis['age_group'] + 4).astype(int).astype(str)\n",
    "\n",
    "# Group by age group for attempts and deaths\n",
    "\n",
    "age_group_stats = (\n",
    "   age_death_analysis\n",
    "   .groupby('age_group')\n",
    "   .agg(\n",
    "       total_attempts=('membid', 'count'),\n",
    "       total_deaths=('death', 'sum')\n",
    "   )\n",
    "   .reset_index()\n",
    ")\n",
    "\n",
    "# Calculate death rate per attempt (%)\n",
    "\n",
    "age_group_stats['Death Rate per Attempt (%)'] = round(\n",
    "   (age_group_stats['total_deaths'] / age_group_stats['total_attempts']) * 100, 2\n",
    ")\n",
    "\n",
    "# Rename columns\n",
    "age_group_stats = age_group_stats.rename(columns={\n",
    "   'age_group': 'Age Group',\n",
    "   'total_attempts': 'Total Attempts',\n",
    "   'total_deaths': 'Total Deaths'\n",
    "})\n",
    "\n",
    "print(age_group_stats)\n",
    "\n",
    "#age_group_stats.to_csv(\"death_rate_by_age_group.csv\", index=False)"
   ]
  },
  {
   "cell_type": "code",
   "execution_count": 80,
   "id": "f9b43e9f-6d91-4eb5-ad00-3633595428de",
   "metadata": {},
   "outputs": [
    {
     "name": "stdout",
     "output_type": "stream",
     "text": [
      "          expid         fname   lname sex citizen  calcage  status  msolo  \\\n",
      "3286  EVER93111  Pasang Lhamu  Sherpa   F   Nepal       30  Leader  False   \n",
      "\n",
      "      deathhgtm  deathdate  deathclass  \\\n",
      "3286       8750 1993-04-23           5   \n",
      "\n",
      "                                              deathnote  \n",
      "3286  Died of exhaustion and exposure early morning ...  \n"
     ]
    }
   ],
   "source": [
    "sherpa_women = everest[\n",
    "   everest['death'] & \n",
    "   (everest['sex'] == 'F') & \n",
    "   (everest['sherpa'] == True)\n",
    "][['expid','fname', 'lname', 'sex', 'citizen', 'calcage', 'status', 'msolo', 'deathhgtm', 'deathdate', 'deathclass','deathnote']]\n",
    "\n",
    "print(sherpa_women)"
   ]
  },
  {
   "cell_type": "code",
   "execution_count": 59,
   "id": "b0a183ab-dd6d-40c4-b29d-41bb2695147c",
   "metadata": {},
   "outputs": [],
   "source": [
    "# 5 = Death during the descent phase of a summit bid\n",
    "# The 'deathclass' column contains numerical codes representing the phase of death, which are taken directly from the Himalayan Database Guide, \n",
    "# available at: https://www.himalayandatabase.com/downloads/Himalayan%20Database%20Guide.pdf"
   ]
  },
  {
   "cell_type": "markdown",
   "id": "2f6cd016-9deb-487e-92d8-0d74ccdea032",
   "metadata": {},
   "source": [
    "### The only woman who died on Mt. Everest from the Sherpa community is Pasanga Lhamu Sherpa. She was the first Nepali woman to summit Everest.\n",
    "### She died during the descent phase of a summit on April 23, 1993, at an altitude of 8750 meters, just below the summit. \n",
    "### She was a leader of the 1993 government-sponsored Nepali Women's Everest Expedition."
   ]
  }
 ],
 "metadata": {
  "kernelspec": {
   "display_name": "Python 3 (ipykernel)",
   "language": "python",
   "name": "python3"
  },
  "language_info": {
   "codemirror_mode": {
    "name": "ipython",
    "version": 3
   },
   "file_extension": ".py",
   "mimetype": "text/x-python",
   "name": "python",
   "nbconvert_exporter": "python",
   "pygments_lexer": "ipython3",
   "version": "3.11.8"
  }
 },
 "nbformat": 4,
 "nbformat_minor": 5
}
